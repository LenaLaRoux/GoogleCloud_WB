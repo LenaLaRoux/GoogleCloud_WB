{
  "nbformat": 4,
  "nbformat_minor": 0,
  "metadata": {
    "colab": {
      "name": "sql_sales_computed.ipynb",
      "provenance": [],
      "authorship_tag": "ABX9TyMZePDIcAlsLT0bsOjER81+",
      "include_colab_link": true
    },
    "kernelspec": {
      "name": "python3",
      "display_name": "Python 3"
    },
    "language_info": {
      "name": "python"
    }
  },
  "cells": [
    {
      "cell_type": "markdown",
      "metadata": {
        "id": "view-in-github",
        "colab_type": "text"
      },
      "source": [
        "<a href=\"https://colab.research.google.com/github/LenaLaRoux/GoogleCloud_WB/blob/main/sql_sales_computed.ipynb\" target=\"_parent\"><img src=\"https://colab.research.google.com/assets/colab-badge.svg\" alt=\"Open In Colab\"/></a>"
      ]
    },
    {
      "cell_type": "code",
      "execution_count": null,
      "metadata": {
        "id": "beDDAGYaX8Rs"
      },
      "outputs": [],
      "source": [
        "#CREATE VIEW wb_tables.sales_computed AS    \n",
        "    Select \n",
        "    orders.token as token,\n",
        "    if (orders.iscancel=true, \"cancel\", if (sale.lastchangedate is null, \"order\", if(return.lastchangedate is null, \"sale\", \"return\"))) as type, \n",
        "       orders.date as order_dt, \n",
        "           if(sale.lastchangedate is null, orders.lastchangedate, \n",
        "                if (return.lastchangedate is null, sale.lastchangedate, return.lastchangedate)) as lastchange_dt,\n",
        "    orders.Odid as rid, orders.gnumber, if (orders.number!=0,orders.number,if (sale.orderid is null,orders.number,sale.orderid))as orderId, orders.incomeid as gi_id, \n",
        "    orders.warehousename as office_name, sale.countryName, sale.oblastOkrugName, orders.oblast,\n",
        "    orders.nmid as nm_id, orders.barcode as shk_id, orders.supplierarticle as sa_name, orders.brand as brand_name, orders.category, orders.subject as subject_name, orders.techsize as ts_name, \n",
        "    orders.quantity as order_quantity, orders.totalprice as retail_price, orders.discountpercent as sale_percent,\n",
        "    orders.iscancel, orders.cancel_dt, \n",
        "    sale.issupply, sale.isrealization, sale.isstorno,  sale_storno.date as sale_storno_dt , return_storno.date as return_storno_dt,\n",
        "    sale.spp as ppvz_spp_prc, sale.date as sale_dt, sale.quantity as sale_quantity, sale.forpay as ppvz_for_pay, sale.pricewithdisc as retail_price_withdisc_rub,  sale.finishedprice as retail_amount,\n",
        "    return.date as return_dt, return.quantity as return_quantity, return.forpay as return_for_pay, return.pricewithdisc as return_retail_price_withdisc_rub, return.finishedprice as return_retail_amount,\n",
        "    surcharge.date as surcharge_dt, surcharge.quantity as surcharge_quantity,surcharge.forpay as surcharge_for_pay, surcharge.pricewithdisc as surcharge_retail_price_withdisc_rub, surcharge.finishedprice as surcharge_retail_amount\n",
        "   \n",
        "         \n",
        "FROM \n",
        "    `wbdataloader.wb_tables.Orders` as orders left join  \n",
        "    (SELECT *\n",
        "    from `wbdataloader.wb_tables.Sales`as sales\n",
        "    where upper(sales.saleID) like 'S%') as sale on sale.Odid = orders.odid left join  \n",
        "    (SELECT *\n",
        "    from `wbdataloader.wb_tables.Sales`as sales\n",
        "    where upper(sales.saleID) like 'R%') as return on sale.Odid = return.Odid left join\n",
        "    (SELECT *\n",
        "    from `wbdataloader.wb_tables.Sales`as sales\n",
        "    where upper(sales.saleID) like 'D%')as surcharge on sale.Odid = surcharge.odid left join \n",
        "     (SELECT *\n",
        "    from `wbdataloader.wb_tables.Sales`as sales\n",
        "    where upper(sales.saleID) like 'A%')as sale_storno on sale.Odid = sale_storno.odid left join \n",
        "    (SELECT *\n",
        "    from `wbdataloader.wb_tables.Sales`as sales\n",
        "    where upper(sales.saleID) like 'B%') as return_storno on return.Odid = return_storno.Odid"
      ]
    }
  ]
}