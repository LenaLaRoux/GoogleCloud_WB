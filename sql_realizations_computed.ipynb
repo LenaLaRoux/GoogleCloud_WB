{
  "nbformat": 4,
  "nbformat_minor": 0,
  "metadata": {
    "colab": {
      "name": "sql_realizations_computed.ipynb",
      "provenance": [],
      "authorship_tag": "ABX9TyPUDJPakFa060lib8Yk9n6K",
      "include_colab_link": true
    },
    "kernelspec": {
      "name": "python3",
      "display_name": "Python 3"
    },
    "language_info": {
      "name": "python"
    }
  },
  "cells": [
    {
      "cell_type": "markdown",
      "metadata": {
        "id": "view-in-github",
        "colab_type": "text"
      },
      "source": [
        "<a href=\"https://colab.research.google.com/github/LenaLaRoux/GoogleCloud_WB/blob/main/sql_realizations_computed.ipynb\" target=\"_parent\"><img src=\"https://colab.research.google.com/assets/colab-badge.svg\" alt=\"Open In Colab\"/></a>"
      ]
    },
    {
      "cell_type": "code",
      "execution_count": null,
      "metadata": {
        "id": "rhIevhY1Ya_L"
      },
      "outputs": [],
      "source": [
        "select \n",
        "    sale.token as token,\n",
        "    sale.realizationreport_id, sale.suppliercontract_code, sale.rid, sale.rrd_id, sale.gi_id, sale.nm_id, sale.barcode, sale.shk_id, sale.gi_box_type_name,\n",
        "    if (return.doc_type_name is null, sale.doc_type_name,return.doc_type_name) as doc_type_name, sale.order_dt, sale.rr_dt as sale_dt, \n",
        "    sale.subject_name, sale.brand_name,\n",
        "    sale.product_discount_for_report, sale.retail_commission, sale.supplier_promo, sale.retail_price, sale.sale_percent, sale.commission_percent,\n",
        "    sale.quantity, sale.retail_amount, sale.retail_price_withdisc_rub as sale_retail_price_withdisc_rub, sale.for_pay,\n",
        "    delivery_there.rr_dt as delivery_dt, delivery_there.delivery_amount, delivery_there.delivery_rub,\n",
        "    delivery_back.rr_dt as delivery_back_dt, delivery_back.return_amount as return_delivery_amount, delivery_back.delivery_rub as return_delivery_back,\n",
        "    return.rr_dt as return_dt, -1*return.quantity as return_quantity, -1*return.retail_amount as return_amount,\n",
        "    -1*return.retail_price_withdisc_rub as return_retail_price_withdisc_rub, -1*return.for_pay  return_forpay\n",
        "\n",
        "from \n",
        "    (select *\n",
        "        from `wbdataloader.wb_tables.Realizations` as report\n",
        "        where upper(supplier_oper_name) LIKE 'ПРОДАЖА') as sale left join \n",
        "    (select *\n",
        "        from `wbdataloader.wb_tables.Realizations` as report\n",
        "        where upper(supplier_oper_name) LIKE 'ЛОГИСТИКА' and delivery_amount>0) as delivery_there on sale.rid=delivery_there.rid left join \n",
        "    (select *\n",
        "        from `wbdataloader.wb_tables.Realizations` as report\n",
        "        where upper(supplier_oper_name) LIKE 'ЛОГИСТИКА' and return_amount>0) as delivery_back on sale.rid = delivery_back.rid left join \n",
        "     (select *\n",
        "        from `wbdataloader.wb_tables.Realizations` as report\n",
        "        where upper(supplier_oper_name) LIKE 'ВОЗВРАТ') as return on sale.rid=return.rid"
      ]
    }
  ]
}